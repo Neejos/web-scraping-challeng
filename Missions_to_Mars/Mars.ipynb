{
 "cells": [
  {
   "cell_type": "code",
   "execution_count": 1,
   "metadata": {},
   "outputs": [],
   "source": [
    "\n",
    "#Using selenium\n",
    "from selenium import webdriver\n",
    "from bs4 import BeautifulSoup as bs\n",
    "import time\n",
    "\n",
    "\n",
    "#Using splinter\n",
    "# from splinter import Browser\n",
    "# from bs4 import BeautifulSoup as bs\n",
    "\n",
    "# import requests\n"
   ]
  },
  {
   "cell_type": "code",
   "execution_count": 44,
   "metadata": {},
   "outputs": [
    {
     "data": {
      "text/plain": [
       "<selenium.webdriver.firefox.webdriver.WebDriver (session=\"b1dacf44-83a8-4ccb-bf40-f53e66dc9619\")>"
      ]
     },
     "execution_count": 44,
     "metadata": {},
     "output_type": "execute_result"
    }
   ],
   "source": [
    "\n",
    "driver=webdriver.Firefox(executable_path='C:\\webdrivers2\\geckodriver.exe')\n",
    "driver\n",
    "\n",
    "# #  executable_path = {'executable_path': 'chromedriver.exe'}\n",
    "# browser = Browser('chrome', **executable_path, headless=False)"
   ]
  },
  {
   "cell_type": "code",
   "execution_count": 8,
   "metadata": {},
   "outputs": [],
   "source": [
    "url=\"https://mars.nasa.gov/news/\"\n",
    "driver.get(url)\n"
   ]
  },
  {
   "cell_type": "code",
   "execution_count": 12,
   "metadata": {},
   "outputs": [
    {
     "data": {
      "text/plain": [
       "<html><body><div class=\"image_and_description_container\"><a href=\"/news/8749/nasa-readies-perseverance-mars-rovers-earthly-twin/\" target=\"_self\"><div class=\"rollover_description\"><div class=\"rollover_description_inner\">Did you know NASA's next Mars rover has a nearly identical sibling on Earth for testing? Even better, it's about to roll for the first time through a replica Martian landscape.</div><div class=\"overlay_arrow\"><img alt=\"More\" src=\"/assets/overlay-arrow.png\"/></div></div><div class=\"list_image\"><img alt=\"Engineers test drive Perseverance Mars rover's twin.\" src=\"/system/news_items/list_view_images/8749_PIA23964-320.jpg\"/></div><div class=\"bottom_gradient\"><div><h3>NASA Readies Perseverance Mars Rover's Earthly Twin </h3></div></div></a><div class=\"list_text\"><div class=\"list_date\">September  4, 2020</div><div class=\"content_title\"><a href=\"/news/8749/nasa-readies-perseverance-mars-rovers-earthly-twin/\" target=\"_self\">NASA Readies Perseverance Mars Rover's Earthly Twin </a></div><div class=\"article_teaser_body\">Did you know NASA's next Mars rover has a nearly identical sibling on Earth for testing? Even better, it's about to roll for the first time through a replica Martian landscape.</div></div></div></body></html>"
      ]
     },
     "execution_count": 12,
     "metadata": {},
     "output_type": "execute_result"
    }
   ],
   "source": [
    "info=driver.find_element_by_class_name(\"slide\")\n",
    "soup=bs(info.get_attribute(\"innerHTML\"))\n",
    "soup"
   ]
  },
  {
   "cell_type": "code",
   "execution_count": 26,
   "metadata": {},
   "outputs": [
    {
     "name": "stdout",
     "output_type": "stream",
     "text": [
      "News Title:NASA Readies Perseverance Mars Rover's Earthly Twin \n",
      "News:Did you know NASA's next Mars rover has a nearly identical sibling on Earth for testing? Even better, it's about to roll for the first time through a replica Martian landscape.\n"
     ]
    }
   ],
   "source": [
    "\n",
    "News_Title=soup.find('div',class_=\"content_title\").text\n",
    "News=soup.find('div',class_=\"article_teaser_body\").text\n",
    "print(f'''News Title:{News_Title}\n",
    "News:{News}''')"
   ]
  },
  {
   "cell_type": "code",
   "execution_count": 35,
   "metadata": {},
   "outputs": [
    {
     "data": {
      "text/plain": [
       "<bound method WebDriver.close of <selenium.webdriver.firefox.webdriver.WebDriver (session=\"028a9f12-ec09-46b2-8565-e107bef314e1\")>>"
      ]
     },
     "execution_count": 35,
     "metadata": {},
     "output_type": "execute_result"
    }
   ],
   "source": [
    "driver.close"
   ]
  },
  {
   "cell_type": "code",
   "execution_count": 52,
   "metadata": {},
   "outputs": [],
   "source": [
    "driver.get(\"https://www.jpl.nasa.gov/spaceimages/?search=&category=Mars\")"
   ]
  },
  {
   "cell_type": "code",
   "execution_count": 61,
   "metadata": {},
   "outputs": [
    {
     "data": {
      "text/plain": [
       "<html><body><div class=\"carousel_items\">\n",
       "<article alt=\"Bright Penelope\" class=\"carousel_item\" style=\"background-image: url('/spaceimages/images/wallpaper/PIA11591-1920x1200.jpg');\">\n",
       "<div class=\"default floating_text_area ms-layer\">\n",
       "<h2 class=\"category_title\">\n",
       "</h2>\n",
       "<h2 class=\"brand_title\">\n",
       "\t\t\t\t  FEATURED IMAGE\n",
       "\t\t\t\t</h2>\n",
       "<h1 class=\"media_feature_title\">\n",
       "\t\t\t\t  Bright Penelope\t\t\t\t</h1>\n",
       "<div class=\"description\">\n",
       "</div>\n",
       "<footer>\n",
       "<a class=\"button fancybox\" data-description=\"NASA's Cassini spacecraft looks down on the north of Tethys and sees brightly illuminated Penelope Crater on the trailing hemisphere of the moon in this image taken on July 27, 2009.\" data-fancybox-group=\"images\" data-fancybox-href=\"/spaceimages/images/mediumsize/PIA11591_ip.jpg\" data-link=\"/spaceimages/details.php?id=PIA11591\" data-title=\"Bright Penelope\" id=\"full_image\">\n",
       "\t\t\t\t\tFULL IMAGE\n",
       "\t\t\t\t  </a>\n",
       "</footer>\n",
       "</div>\n",
       "<div class=\"gradient_container_top\"></div>\n",
       "<div class=\"gradient_container_bottom\"></div>\n",
       "</article>\n",
       "</div>\n",
       "</body></html>"
      ]
     },
     "execution_count": 61,
     "metadata": {},
     "output_type": "execute_result"
    }
   ],
   "source": [
    "image_info=driver.find_element_by_class_name(\"carousel_container\")\n",
    "soup=bs(image_info.get_attribute(\"innerHTML\"))\n",
    "soup"
   ]
  },
  {
   "cell_type": "code",
   "execution_count": 70,
   "metadata": {},
   "outputs": [],
   "source": [
    "featured_image_url_tag=soup.find('article').attrs\n",
    "# featured_image_url=featured_image_url_tag.get('style')"
   ]
  },
  {
   "cell_type": "code",
   "execution_count": 71,
   "metadata": {},
   "outputs": [
    {
     "data": {
      "text/plain": [
       "{'alt': 'Bright Penelope',\n",
       " 'class': ['carousel_item'],\n",
       " 'style': \"background-image: url('/spaceimages/images/wallpaper/PIA11591-1920x1200.jpg');\"}"
      ]
     },
     "execution_count": 71,
     "metadata": {},
     "output_type": "execute_result"
    }
   ],
   "source": [
    "featured_image_url_tag"
   ]
  },
  {
   "cell_type": "code",
   "execution_count": 81,
   "metadata": {},
   "outputs": [
    {
     "name": "stdout",
     "output_type": "stream",
     "text": [
      "Featured_image_url:background-image: url('/spaceimages/images/wallpaper/PIA11591-1920x1200.jpg');\n"
     ]
    }
   ],
   "source": [
    "featured_image_url=featured_image_url_tag['style']\n",
    "new=featured_image_url.replace('background-image: url();',\"\")\n",
    "print(f\"Featured_image_url:{new}\")"
   ]
  },
  {
   "cell_type": "code",
   "execution_count": null,
   "metadata": {},
   "outputs": [],
   "source": [
    "for element in results:\n",
    "    try:\n",
    "        # Identify and return title of listing\n",
    "        title = element.find('a').text\n",
    "        # Identify and return paragraph of listing\n",
    "       \n",
    "        print(f\"Title:{title}\")\n",
    "    except AttributeError as e:\n",
    "        print(e)"
   ]
  },
  {
   "cell_type": "code",
   "execution_count": null,
   "metadata": {},
   "outputs": [],
   "source": [
    "for element in results1:\n",
    "    try:\n",
    "        # Identify and return paragraph of listing\n",
    "        p = element.text\n",
    "        print(f\"News-article:{p}\")\n",
    "    except AttributeError as e:\n",
    "        print(e)\n",
    "    "
   ]
  },
  {
   "cell_type": "code",
   "execution_count": null,
   "metadata": {},
   "outputs": [],
   "source": []
  }
 ],
 "metadata": {
  "kernelspec": {
   "display_name": "Python 3",
   "language": "python",
   "name": "python3"
  },
  "language_info": {
   "codemirror_mode": {
    "name": "ipython",
    "version": 3
   },
   "file_extension": ".py",
   "mimetype": "text/x-python",
   "name": "python",
   "nbconvert_exporter": "python",
   "pygments_lexer": "ipython3",
   "version": "3.7.6"
  }
 },
 "nbformat": 4,
 "nbformat_minor": 4
}
